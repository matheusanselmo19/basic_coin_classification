{
 "cells": [
  {
   "cell_type": "markdown",
   "id": "beginning-array",
   "metadata": {},
   "source": [
    "# Things to get Done: Image pre-processing and binary classification."
   ]
  },
  {
   "cell_type": "markdown",
   "id": "headed-somalia",
   "metadata": {},
   "source": [
    "## This notebook shows an implementation of a Convolutional Neural Network to classify coins the Brazilian currency, Real."
   ]
  },
  {
   "cell_type": "markdown",
   "id": "cognitive-saying",
   "metadata": {},
   "source": [
    "### First Things, Import the libraries."
   ]
  },
  {
   "cell_type": "code",
   "execution_count": null,
   "id": "victorian-charlotte",
   "metadata": {},
   "outputs": [],
   "source": [
    "from numpy import expand_dims\n",
    "from tensorflow.keras import layers\n",
    "import numpy as np\n",
    "import tensorflow as tf\n",
    "from tensorflow import keras\n",
    "from keras.preprocessing.image import load_img\n",
    "from keras.preprocessing.image import img_to_array\n",
    "from matplotlib import pyplot"
   ]
  },
  {
   "cell_type": "markdown",
   "id": "naughty-range",
   "metadata": {},
   "source": [
    "###   Data preprocessing. 10% of The dataset will be used as validation."
   ]
  },
  {
   "cell_type": "code",
   "execution_count": null,
   "id": "described-momentum",
   "metadata": {},
   "outputs": [],
   "source": [
    "train_ds = tf.keras.preprocessing.image_dataset_from_directory(\n",
    "            'data_set',\n",
    "            labels=\"inferred\",\n",
    "            label_mode='categorical',\n",
    "            class_names=None,\n",
    "            color_mode=\"rgb\",\n",
    "            batch_size=32,\n",
    "            image_size=(256, 256),\n",
    "            shuffle=True,\n",
    "            seed=123,\n",
    "            validation_split= 0.1,\n",
    "            subset=\"training\")"
   ]
  },
  {
   "cell_type": "code",
   "execution_count": null,
   "id": "driven-table",
   "metadata": {},
   "outputs": [],
   "source": [
    "val_ds = tf.keras.preprocessing.image_dataset_from_directory(\n",
    "            'data_set',\n",
    "            labels=\"inferred\",\n",
    "            label_mode='categorical',\n",
    "            class_names=None,\n",
    "            color_mode=\"rgb\",\n",
    "            batch_size=32,\n",
    "            image_size=(256, 256),\n",
    "            shuffle=True,\n",
    "            seed=123,\n",
    "            validation_split= 0.1,\n",
    "            subset=\"validation\")"
   ]
  },
  {
   "cell_type": "markdown",
   "id": "broke-worker",
   "metadata": {},
   "source": [
    "### Check the names of the classes and see some images from the dataset."
   ]
  },
  {
   "cell_type": "code",
   "execution_count": null,
   "id": "standard-redhead",
   "metadata": {},
   "outputs": [],
   "source": [
    "class_names = train_ds.class_names\n",
    "print(\"The class names in the trainng set are:\",class_names)\n"
   ]
  },
  {
   "cell_type": "code",
   "execution_count": null,
   "id": "entire-defensive",
   "metadata": {},
   "outputs": [],
   "source": [
    "from matplotlib import pyplot as plt\n",
    "plt.figure(figsize=(10, 10))\n",
    "for images, labels in train_ds.take(1):\n",
    "  for i in range(9):\n",
    "    ax = plt.subplot(3, 3, i + 1)\n",
    "    plt.imshow(images[i].numpy().astype(\"uint8\"))\n",
    "    plt.axis(\"off\")"
   ]
  },
  {
   "cell_type": "markdown",
   "id": "built-louisville",
   "metadata": {},
   "source": [
    "### Build the Convolutional Neural Network."
   ]
  },
  {
   "cell_type": "code",
   "execution_count": null,
   "id": "obvious-albuquerque",
   "metadata": {},
   "outputs": [],
   "source": [
    "from tensorflow.keras.models import Sequential\n",
    "\n",
    "\n",
    "class  callbacktf_coin_classification(tf.keras.callbacks.Callback):\n",
    "    def on_epoch_end  (self, epoch, logs={}):\n",
    "            if( logs.get('accuracy') > 0.99 ): \n",
    "                print(\"\\n The trainnig has finshed\")\n",
    "                self.model.stop_training = True\n",
    "                \n",
    "callback = callbacktf_coin_classification()\n",
    "model = Sequential([\n",
    "  layers.experimental.preprocessing.Rescaling(1./255, input_shape=(256, 256, 3)),\n",
    "  layers.Conv2D(16, 3, padding='same', activation='relu'),\n",
    "  layers.MaxPooling2D(2,2),\n",
    "  layers.Conv2D(32, (3,3), padding='same', activation='relu'),\n",
    "  layers.MaxPooling2D(2,2),\n",
    "  layers.Conv2D(64, (3,3), padding='same', activation='relu'),\n",
    "  layers.MaxPooling2D(2,2),\n",
    "  layers.Dropout(0.5),  \n",
    "  layers.Conv2D(64, (3,3), padding='same', activation='relu'),\n",
    "  layers.MaxPooling2D(2,2),\n",
    "  layers.Flatten(),\n",
    "  layers.Dropout(0.5),\n",
    "  layers.Dense(512, activation='relu'),\n",
    "  layers.Dense(5, activation ='softmax')\n",
    "])\n",
    "\n",
    "\n",
    "model.compile(optimizer='adam',\n",
    "            loss = 'categorical_crossentropy',\n",
    "              metrics=['accuracy'])\n"
   ]
  },
  {
   "cell_type": "code",
   "execution_count": null,
   "id": "jewish-diamond",
   "metadata": {},
   "outputs": [],
   "source": [
    "model.summary()"
   ]
  },
  {
   "cell_type": "markdown",
   "id": "suburban-brass",
   "metadata": {},
   "source": [
    "### Train the model until the accuracy of 95,00% be achieved."
   ]
  },
  {
   "cell_type": "code",
   "execution_count": null,
   "id": "knowing-train",
   "metadata": {},
   "outputs": [],
   "source": [
    "epochs = 15\n",
    "history = model.fit(\n",
    "  train_ds,\n",
    "  validation_data=val_ds,\n",
    "  epochs=epochs,\n",
    "  callbacks = callback\n",
    ")"
   ]
  },
  {
   "cell_type": "markdown",
   "id": "russian-hardwood",
   "metadata": {},
   "source": [
    "### Check the CNN with images that are outside of the training and validation set."
   ]
  },
  {
   "cell_type": "code",
   "execution_count": null,
   "id": "centered-compact",
   "metadata": {},
   "outputs": [],
   "source": [
    "img_path = # insert the path of a coin of the Brazillian currency.\n",
    "img_to_classify = load_img(img_path,target_size=(256, 256))\n",
    "img_to_classify_array = img_to_array(img_to_classify)\n",
    "img_to_classify_array = tf.expand_dims(img_to_classify_array,0)\n",
    "classification = model.predict(img_to_classify_array)\n",
    "plt.figure()\n",
    "plt.imshow(img_to_classify)\n",
    "score = tf.nn.softmax(classification[0])\n",
    "\n",
    "print(\n",
    "    \"Your image should belongs to {} class with a {:.3f}% confidence.\"\n",
    "    .format(class_names[np.argmax(score)], 100 * np.max(score))\n",
    ")"
   ]
  }
 ],
 "metadata": {
  "kernelspec": {
   "display_name": "Python 3",
   "language": "python",
   "name": "python3"
  },
  "language_info": {
   "codemirror_mode": {
    "name": "ipython",
    "version": 3
   },
   "file_extension": ".py",
   "mimetype": "text/x-python",
   "name": "python",
   "nbconvert_exporter": "python",
   "pygments_lexer": "ipython3",
   "version": "3.8.5"
  }
 },
 "nbformat": 4,
 "nbformat_minor": 5
}
